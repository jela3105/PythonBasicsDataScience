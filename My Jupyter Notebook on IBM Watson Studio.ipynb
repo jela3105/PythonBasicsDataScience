{
    "cells": [
        {
            "cell_type": "markdown",
            "metadata": {
                "collapsed": true
            },
            "source": "# My Jupyter Notebook on IBM Watson Studio"
        },
        {
            "cell_type": "markdown",
            "metadata": {},
            "source": "**Josu\u00e9 E. L\u00f3pez A.** \\\nI'm student of first semester in Computer Engineering and I desire to become Data Scientist."
        },
        {
            "cell_type": "markdown",
            "metadata": {},
            "source": "*I want to learn Data Science because I find interesting the way of how te numbers can tell a really interesting stories about our daily life and I want to find more interesting things becouse there is always someting new to learn.*"
        },
        {
            "cell_type": "markdown",
            "metadata": {},
            "source": "### The code of the cell below is a simple add of varible a and b"
        },
        {
            "cell_type": "code",
            "execution_count": 8,
            "metadata": {},
            "outputs": [
                {
                    "name": "stdout",
                    "output_type": "stream",
                    "text": "50\n"
                }
            ],
            "source": "a = 25\nb = 25\nprint(a+b)"
        },
        {
            "cell_type": "markdown",
            "metadata": {},
            "source": "The link below is the github repository of markdown \\\n[Markdown Cheatsheet](https://github.com/adam-p/markdown-here)\\"
        },
        {
            "cell_type": "code",
            "execution_count": null,
            "metadata": {},
            "outputs": [],
            "source": ""
        }
    ],
    "metadata": {
        "kernelspec": {
            "display_name": "Python 3.7",
            "language": "python",
            "name": "python3"
        },
        "language_info": {
            "codemirror_mode": {
                "name": "ipython",
                "version": 3
            },
            "file_extension": ".py",
            "mimetype": "text/x-python",
            "name": "python",
            "nbconvert_exporter": "python",
            "pygments_lexer": "ipython3",
            "version": "3.7.9"
        }
    },
    "nbformat": 4,
    "nbformat_minor": 1
}